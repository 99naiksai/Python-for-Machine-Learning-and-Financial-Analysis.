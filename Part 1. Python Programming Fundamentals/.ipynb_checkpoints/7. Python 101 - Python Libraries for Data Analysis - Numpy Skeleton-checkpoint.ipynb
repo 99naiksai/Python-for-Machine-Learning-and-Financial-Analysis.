{
 "cells": [
  {
   "cell_type": "markdown",
   "metadata": {
    "colab_type": "text",
    "id": "f7yOpaRM5IbG"
   },
   "source": [
    "# 1. NUMPY BASICS"
   ]
  },
  {
   "cell_type": "code",
   "execution_count": 1,
   "metadata": {
    "colab": {},
    "colab_type": "code",
    "id": "Bqk10u47qEmJ"
   },
   "outputs": [
    {
     "data": {
      "text/plain": [
       "[1, 2, 3, 4, 5, 6]"
      ]
     },
     "execution_count": 1,
     "metadata": {},
     "output_type": "execute_result"
    }
   ],
   "source": [
    "# NumPy is a Linear Algebra Library used for multidimensional arrays\n",
    "# NumPy brings the best of two worlds: (1) C/Fortran computational efficiency, (2) Python language easy syntax \n",
    "\n",
    "# Let's define a one-dimensional array \n",
    "import numpy as np\n",
    "my_list = [1 , 2 , 3 , 4 , 5 , 6]\n",
    "my_list"
   ]
  },
  {
   "cell_type": "code",
   "execution_count": 3,
   "metadata": {
    "colab": {},
    "colab_type": "code",
    "id": "b98d-lkK5NbQ"
   },
   "outputs": [
    {
     "data": {
      "text/plain": [
       "array([1, 2, 3, 4, 5, 6])"
      ]
     },
     "execution_count": 3,
     "metadata": {},
     "output_type": "execute_result"
    }
   ],
   "source": [
    "# Let's create a numpy array from the list \"my_list\"\n",
    "x = np.array(my_list)\n",
    "x"
   ]
  },
  {
   "cell_type": "code",
   "execution_count": 4,
   "metadata": {
    "colab": {},
    "colab_type": "code",
    "id": "tljNDWBw5Nf9"
   },
   "outputs": [
    {
     "data": {
      "text/plain": [
       "numpy.ndarray"
      ]
     },
     "execution_count": 4,
     "metadata": {},
     "output_type": "execute_result"
    }
   ],
   "source": [
    "type(x)"
   ]
  },
  {
   "cell_type": "code",
   "execution_count": 5,
   "metadata": {
    "colab": {},
    "colab_type": "code",
    "id": "wpiZ25fZ5NiN"
   },
   "outputs": [
    {
     "data": {
      "text/plain": [
       "array([[ 5,  8],\n",
       "       [ 9, 13]])"
      ]
     },
     "execution_count": 5,
     "metadata": {},
     "output_type": "execute_result"
    }
   ],
   "source": [
    "# Multi-dimensional (Matrix definition) \n",
    "matrix = np.array([[5 , 8] , [9  ,13]])\n",
    "matrix\n"
   ]
  },
  {
   "cell_type": "markdown",
   "metadata": {
    "colab_type": "text",
    "id": "tmB_S-JfHZRL"
   },
   "source": [
    "**MINI CHALLENGE #1:** \n",
    "- **Write a code that creates the following 2x4 numpy array**\n",
    "\n",
    "```\n",
    "[[4 6 8 7] \n",
    "[20 5 6 9]]\n",
    "```"
   ]
  },
  {
   "cell_type": "code",
   "execution_count": 10,
   "metadata": {
    "colab": {},
    "colab_type": "code",
    "id": "Nabjzl1oKtGX"
   },
   "outputs": [
    {
     "data": {
      "text/plain": [
       "array([[ 4,  6,  8,  7],\n",
       "       [20,  5,  6, 13]])"
      ]
     },
     "execution_count": 10,
     "metadata": {},
     "output_type": "execute_result"
    }
   ],
   "source": [
    "matrix1 = np.array([[4 , 6 , 8  ,7] , [20 , 5 , 6 , 13]])\n",
    "matrix1\n"
   ]
  },
  {
   "cell_type": "code",
   "execution_count": 11,
   "metadata": {},
   "outputs": [
    {
     "data": {
      "text/plain": [
       "numpy.ndarray"
      ]
     },
     "execution_count": 11,
     "metadata": {},
     "output_type": "execute_result"
    }
   ],
   "source": [
    "type(matrix1)"
   ]
  },
  {
   "cell_type": "markdown",
   "metadata": {
    "colab_type": "text",
    "id": "uBuqdDQM6Qd9"
   },
   "source": [
    "# 2. BUILT-IN METHODS AND FUNCTIONS "
   ]
  },
  {
   "cell_type": "code",
   "execution_count": 13,
   "metadata": {
    "colab": {},
    "colab_type": "code",
    "id": "yXQV-Nrg5No3"
   },
   "outputs": [
    {
     "data": {
      "text/plain": [
       "array([0.47049716, 0.21107291, 0.36953324, 0.82648734, 0.17745669,\n",
       "       0.81697917, 0.01400713, 0.63795241, 0.62662951, 0.63340303,\n",
       "       0.90767462, 0.86253533, 0.38583855, 0.50342374, 0.80254122])"
      ]
     },
     "execution_count": 13,
     "metadata": {},
     "output_type": "execute_result"
    }
   ],
   "source": [
    "# \"rand()\" uniform distribution between 0 and 1\n",
    "x = np.random.rand(15)\n",
    "x"
   ]
  },
  {
   "cell_type": "code",
   "execution_count": 14,
   "metadata": {
    "colab": {},
    "colab_type": "code",
    "id": "PpJUCdB15NkT"
   },
   "outputs": [
    {
     "data": {
      "text/plain": [
       "array([[0.7036112 , 0.04879848, 0.46077526, 0.77589746, 0.86594229],\n",
       "       [0.32103283, 0.08473206, 0.94362542, 0.48705344, 0.20587611],\n",
       "       [0.3931784 , 0.10781771, 0.14646345, 0.361908  , 0.30702502],\n",
       "       [0.43600898, 0.3578593 , 0.29665223, 0.36418968, 0.50669768],\n",
       "       [0.72643822, 0.81340683, 0.19826632, 0.58285419, 0.85643214]])"
      ]
     },
     "execution_count": 14,
     "metadata": {},
     "output_type": "execute_result"
    }
   ],
   "source": [
    "# you can create a matrix of random number as well\n",
    "x = np.random.rand(5 , 5)\n",
    "x"
   ]
  },
  {
   "cell_type": "code",
   "execution_count": 15,
   "metadata": {
    "colab": {},
    "colab_type": "code",
    "id": "7EzMNrrm6YHA"
   },
   "outputs": [
    {
     "data": {
      "text/plain": [
       "array([ 0.94578668, -0.08911757, -1.20729679, -2.02016041,  1.09270147,\n",
       "       -1.20545243,  0.81897132,  1.32532845, -0.73840457,  0.15011679])"
      ]
     },
     "execution_count": 15,
     "metadata": {},
     "output_type": "execute_result"
    }
   ],
   "source": [
    "# \"randn()\" normal distribution between 0 and 1\n",
    "x = np.random.randn(10)\n",
    "x"
   ]
  },
  {
   "cell_type": "code",
   "execution_count": 19,
   "metadata": {
    "colab": {},
    "colab_type": "code",
    "id": "RBcU5xgb6YL0"
   },
   "outputs": [
    {
     "data": {
      "text/plain": [
       "7"
      ]
     },
     "execution_count": 19,
     "metadata": {},
     "output_type": "execute_result"
    }
   ],
   "source": [
    "# \"randint\" is used to generate random integers between upper and lower bounds\n",
    "x = np.random.randint(1 , 10)\n",
    "x"
   ]
  },
  {
   "cell_type": "code",
   "execution_count": 20,
   "metadata": {
    "colab": {},
    "colab_type": "code",
    "id": "O3JdVtvo6YP7"
   },
   "outputs": [
    {
     "data": {
      "text/plain": [
       "array([43, 35, 17, 39, 68, 96, 36, 33,  6, 46, 29, 18, 16, 71, 19])"
      ]
     },
     "execution_count": 20,
     "metadata": {},
     "output_type": "execute_result"
    }
   ],
   "source": [
    "# \"randint\" can be used to generate a certain number of random itegers as follows\n",
    "x = np.random.randint(1 , 100 , 15)\n",
    "x"
   ]
  },
  {
   "cell_type": "code",
   "execution_count": 21,
   "metadata": {
    "colab": {},
    "colab_type": "code",
    "id": "EOOLMB416YUh"
   },
   "outputs": [
    {
     "data": {
      "text/plain": [
       "array([ 1,  2,  3,  4,  5,  6,  7,  8,  9, 10, 11, 12, 13, 14, 15, 16, 17,\n",
       "       18, 19, 20, 21, 22, 23, 24, 25, 26, 27, 28, 29, 30, 31, 32, 33, 34,\n",
       "       35, 36, 37, 38, 39, 40, 41, 42, 43, 44, 45, 46, 47, 48, 49])"
      ]
     },
     "execution_count": 21,
     "metadata": {},
     "output_type": "execute_result"
    }
   ],
   "source": [
    "# np.arange creates an evenly spaced values within a given interval\n",
    "x = np.arange(1 , 50)\n",
    "x"
   ]
  },
  {
   "cell_type": "code",
   "execution_count": 22,
   "metadata": {
    "colab": {},
    "colab_type": "code",
    "id": "Jz7eJuio6YY4"
   },
   "outputs": [
    {
     "data": {
      "text/plain": [
       "array([ 1,  6, 11, 16, 21, 26, 31, 36, 41, 46])"
      ]
     },
     "execution_count": 22,
     "metadata": {},
     "output_type": "execute_result"
    }
   ],
   "source": [
    "# Create an evenly spaced values with a step of 5\n",
    "x = np.arange(1 , 50 , 5)\n",
    "x"
   ]
  },
  {
   "cell_type": "code",
   "execution_count": 23,
   "metadata": {
    "colab": {},
    "colab_type": "code",
    "id": "sft1flaM6YXF"
   },
   "outputs": [
    {
     "data": {
      "text/plain": [
       "array([[1., 0., 0., 0., 0., 0., 0., 0., 0., 0., 0., 0., 0., 0., 0.],\n",
       "       [0., 1., 0., 0., 0., 0., 0., 0., 0., 0., 0., 0., 0., 0., 0.],\n",
       "       [0., 0., 1., 0., 0., 0., 0., 0., 0., 0., 0., 0., 0., 0., 0.],\n",
       "       [0., 0., 0., 1., 0., 0., 0., 0., 0., 0., 0., 0., 0., 0., 0.],\n",
       "       [0., 0., 0., 0., 1., 0., 0., 0., 0., 0., 0., 0., 0., 0., 0.],\n",
       "       [0., 0., 0., 0., 0., 1., 0., 0., 0., 0., 0., 0., 0., 0., 0.],\n",
       "       [0., 0., 0., 0., 0., 0., 1., 0., 0., 0., 0., 0., 0., 0., 0.],\n",
       "       [0., 0., 0., 0., 0., 0., 0., 1., 0., 0., 0., 0., 0., 0., 0.],\n",
       "       [0., 0., 0., 0., 0., 0., 0., 0., 1., 0., 0., 0., 0., 0., 0.],\n",
       "       [0., 0., 0., 0., 0., 0., 0., 0., 0., 1., 0., 0., 0., 0., 0.],\n",
       "       [0., 0., 0., 0., 0., 0., 0., 0., 0., 0., 1., 0., 0., 0., 0.],\n",
       "       [0., 0., 0., 0., 0., 0., 0., 0., 0., 0., 0., 1., 0., 0., 0.],\n",
       "       [0., 0., 0., 0., 0., 0., 0., 0., 0., 0., 0., 0., 1., 0., 0.],\n",
       "       [0., 0., 0., 0., 0., 0., 0., 0., 0., 0., 0., 0., 0., 1., 0.],\n",
       "       [0., 0., 0., 0., 0., 0., 0., 0., 0., 0., 0., 0., 0., 0., 1.]])"
      ]
     },
     "execution_count": 23,
     "metadata": {},
     "output_type": "execute_result"
    }
   ],
   "source": [
    "# create a diagonal of ones and zeros everywhere else\n",
    "x = np.eye(15)\n",
    "x"
   ]
  },
  {
   "cell_type": "code",
   "execution_count": 24,
   "metadata": {
    "colab": {},
    "colab_type": "code",
    "id": "zZgMftc96fZm"
   },
   "outputs": [
    {
     "data": {
      "text/plain": [
       "array([1., 1., 1., 1., 1., 1., 1., 1., 1., 1.])"
      ]
     },
     "execution_count": 24,
     "metadata": {},
     "output_type": "execute_result"
    }
   ],
   "source": [
    "# Array of ones\n",
    "x = np.ones(10)\n",
    "x"
   ]
  },
  {
   "cell_type": "code",
   "execution_count": 26,
   "metadata": {
    "colab": {},
    "colab_type": "code",
    "id": "VQ8fp8Qb6feB"
   },
   "outputs": [
    {
     "data": {
      "text/plain": [
       "array([[1., 1., 1., 1., 1., 1., 1., 1., 1., 1., 1., 1., 1., 1., 1.],\n",
       "       [1., 1., 1., 1., 1., 1., 1., 1., 1., 1., 1., 1., 1., 1., 1.],\n",
       "       [1., 1., 1., 1., 1., 1., 1., 1., 1., 1., 1., 1., 1., 1., 1.],\n",
       "       [1., 1., 1., 1., 1., 1., 1., 1., 1., 1., 1., 1., 1., 1., 1.],\n",
       "       [1., 1., 1., 1., 1., 1., 1., 1., 1., 1., 1., 1., 1., 1., 1.],\n",
       "       [1., 1., 1., 1., 1., 1., 1., 1., 1., 1., 1., 1., 1., 1., 1.],\n",
       "       [1., 1., 1., 1., 1., 1., 1., 1., 1., 1., 1., 1., 1., 1., 1.],\n",
       "       [1., 1., 1., 1., 1., 1., 1., 1., 1., 1., 1., 1., 1., 1., 1.],\n",
       "       [1., 1., 1., 1., 1., 1., 1., 1., 1., 1., 1., 1., 1., 1., 1.],\n",
       "       [1., 1., 1., 1., 1., 1., 1., 1., 1., 1., 1., 1., 1., 1., 1.],\n",
       "       [1., 1., 1., 1., 1., 1., 1., 1., 1., 1., 1., 1., 1., 1., 1.],\n",
       "       [1., 1., 1., 1., 1., 1., 1., 1., 1., 1., 1., 1., 1., 1., 1.],\n",
       "       [1., 1., 1., 1., 1., 1., 1., 1., 1., 1., 1., 1., 1., 1., 1.],\n",
       "       [1., 1., 1., 1., 1., 1., 1., 1., 1., 1., 1., 1., 1., 1., 1.],\n",
       "       [1., 1., 1., 1., 1., 1., 1., 1., 1., 1., 1., 1., 1., 1., 1.]])"
      ]
     },
     "execution_count": 26,
     "metadata": {},
     "output_type": "execute_result"
    }
   ],
   "source": [
    "# Matrices of ones\n",
    "x = np.ones((15 , 15))\n",
    "x"
   ]
  },
  {
   "cell_type": "code",
   "execution_count": 27,
   "metadata": {
    "colab": {},
    "colab_type": "code",
    "id": "TTROXKYo6YSn"
   },
   "outputs": [
    {
     "data": {
      "text/plain": [
       "array([0., 0., 0., 0., 0., 0., 0., 0., 0., 0.])"
      ]
     },
     "execution_count": 27,
     "metadata": {},
     "output_type": "execute_result"
    }
   ],
   "source": [
    "# Array of zeros\n",
    "x = np.zeros(10)\n",
    "x"
   ]
  },
  {
   "cell_type": "markdown",
   "metadata": {
    "colab_type": "text",
    "id": "IGiQ87EjKzh-"
   },
   "source": [
    "**MINI CHALLENGE #2:**\n",
    "- **Write a code that takes in a number x from the user and creates a 1x20 array with random numbers ranging from 0 to x**"
   ]
  },
  {
   "cell_type": "code",
   "execution_count": 29,
   "metadata": {
    "colab": {},
    "colab_type": "code",
    "id": "xg1mPZKKML5j"
   },
   "outputs": [
    {
     "name": "stdout",
     "output_type": "stream",
     "text": [
      "Please enter a positive integer value :100\n"
     ]
    },
    {
     "data": {
      "text/plain": [
       "array([30, 18, 63, 52, 40, 78, 32, 46,  3, 49, 27, 78, 77, 41, 55,  4, 59,\n",
       "       30, 89, 45])"
      ]
     },
     "execution_count": 29,
     "metadata": {},
     "output_type": "execute_result"
    }
   ],
   "source": [
    "x = int(input(\"Please enter a positive integer value :\"))\n",
    "y = np.random.randint(0 , x ,20)\n",
    "y"
   ]
  },
  {
   "cell_type": "markdown",
   "metadata": {
    "colab_type": "text",
    "id": "980PKtbu9Z0k"
   },
   "source": [
    "# 3. SHAPE, LENGTH, TYPE, RESHAPE, AND MAX/MIN VALUES"
   ]
  },
  {
   "cell_type": "code",
   "execution_count": 5,
   "metadata": {
    "colab": {},
    "colab_type": "code",
    "id": "MIxxZhxSADVj"
   },
   "outputs": [
    {
     "data": {
      "text/plain": [
       "array([-30,  40,  34,  65, -54,  32,  76,  90])"
      ]
     },
     "execution_count": 5,
     "metadata": {},
     "output_type": "execute_result"
    }
   ],
   "source": [
    "# Let's define a one-dimensional array \n",
    "import numpy as np\n",
    "my_list = [-30 , 40 , 34 , 65 , -54 , 32 , 76 , 90]\n",
    "my_list\n",
    "x = np.array(my_list)\n",
    "x"
   ]
  },
  {
   "cell_type": "code",
   "execution_count": 7,
   "metadata": {
    "colab": {},
    "colab_type": "code",
    "id": "O9mMBErG6YJr"
   },
   "outputs": [
    {
     "data": {
      "text/plain": [
       "8"
      ]
     },
     "execution_count": 7,
     "metadata": {},
     "output_type": "execute_result"
    }
   ],
   "source": [
    "# Get Length of a numpy array\n",
    "len(x)"
   ]
  },
  {
   "cell_type": "code",
   "execution_count": 8,
   "metadata": {
    "colab": {},
    "colab_type": "code",
    "id": "fo3vYjNI9lGF"
   },
   "outputs": [
    {
     "data": {
      "text/plain": [
       "(8,)"
      ]
     },
     "execution_count": 8,
     "metadata": {},
     "output_type": "execute_result"
    }
   ],
   "source": [
    "# Get shape\n",
    "x.shape"
   ]
  },
  {
   "cell_type": "code",
   "execution_count": 9,
   "metadata": {
    "colab": {},
    "colab_type": "code",
    "id": "fdkzRVuB9lR6"
   },
   "outputs": [
    {
     "data": {
      "text/plain": [
       "dtype('int32')"
      ]
     },
     "execution_count": 9,
     "metadata": {},
     "output_type": "execute_result"
    }
   ],
   "source": [
    "# Obtain the datatype\n",
    "x.dtype"
   ]
  },
  {
   "cell_type": "code",
   "execution_count": 10,
   "metadata": {
    "colab": {},
    "colab_type": "code",
    "id": "GVnOSYnU9lLU"
   },
   "outputs": [
    {
     "data": {
      "text/plain": [
       "array([[-30,  40,  34,  65],\n",
       "       [-54,  32,  76,  90]])"
      ]
     },
     "execution_count": 10,
     "metadata": {},
     "output_type": "execute_result"
    }
   ],
   "source": [
    "# Reshape 1D array into a matrix\n",
    "z = x.reshape(2 , 4)\n",
    "z"
   ]
  },
  {
   "cell_type": "code",
   "execution_count": 11,
   "metadata": {
    "colab": {},
    "colab_type": "code",
    "id": "zb1UVnsW9lI_"
   },
   "outputs": [
    {
     "data": {
      "text/plain": [
       "90"
      ]
     },
     "execution_count": 11,
     "metadata": {},
     "output_type": "execute_result"
    }
   ],
   "source": [
    "# Obtain the maximum element (value)\n",
    "x.max()"
   ]
  },
  {
   "cell_type": "code",
   "execution_count": 12,
   "metadata": {
    "colab": {},
    "colab_type": "code",
    "id": "q1yArvkA-R5P"
   },
   "outputs": [
    {
     "data": {
      "text/plain": [
       "-54"
      ]
     },
     "execution_count": 12,
     "metadata": {},
     "output_type": "execute_result"
    }
   ],
   "source": [
    "# Obtain the minimum element (value)\n",
    "x.min()"
   ]
  },
  {
   "cell_type": "code",
   "execution_count": 14,
   "metadata": {
    "colab": {},
    "colab_type": "code",
    "id": "ehXgrFee-R3F"
   },
   "outputs": [
    {
     "data": {
      "text/plain": [
       "7"
      ]
     },
     "execution_count": 14,
     "metadata": {},
     "output_type": "execute_result"
    }
   ],
   "source": [
    "# Obtain the location of the max element\n",
    "x.argmax()"
   ]
  },
  {
   "cell_type": "code",
   "execution_count": 15,
   "metadata": {
    "colab": {},
    "colab_type": "code",
    "id": "EnaJTGEy-R0Y"
   },
   "outputs": [
    {
     "data": {
      "text/plain": [
       "4"
      ]
     },
     "execution_count": 15,
     "metadata": {},
     "output_type": "execute_result"
    }
   ],
   "source": [
    "# Obtain the location of the min element\n",
    "x.argmin()"
   ]
  },
  {
   "cell_type": "markdown",
   "metadata": {
    "colab_type": "text",
    "id": "7LavgBBnIIJz"
   },
   "source": [
    "**MINI CHALLENGE #3:**\n",
    "- **Write a code that creates a 4x5 array inwhich numbers range between 300 and 500 such that the difference between elements is 10**"
   ]
  },
  {
   "cell_type": "code",
   "execution_count": 33,
   "metadata": {
    "colab": {},
    "colab_type": "code",
    "id": "CtwsbAQ6NGiN"
   },
   "outputs": [
    {
     "data": {
      "text/plain": [
       "array([300, 310, 320, 330, 340, 350, 360, 370, 380, 390, 400, 410, 420,\n",
       "       430, 440, 450, 460, 470, 480, 490])"
      ]
     },
     "execution_count": 33,
     "metadata": {},
     "output_type": "execute_result"
    }
   ],
   "source": [
    "x = np.arange(300 , 500 , 10)\n",
    "x        \n"
   ]
  },
  {
   "cell_type": "code",
   "execution_count": 36,
   "metadata": {},
   "outputs": [
    {
     "data": {
      "text/plain": [
       "(20,)"
      ]
     },
     "execution_count": 36,
     "metadata": {},
     "output_type": "execute_result"
    }
   ],
   "source": [
    "x.shape"
   ]
  },
  {
   "cell_type": "code",
   "execution_count": 34,
   "metadata": {},
   "outputs": [
    {
     "data": {
      "text/plain": [
       "array([[300, 310, 320, 330, 340],\n",
       "       [350, 360, 370, 380, 390],\n",
       "       [400, 410, 420, 430, 440],\n",
       "       [450, 460, 470, 480, 490]])"
      ]
     },
     "execution_count": 34,
     "metadata": {},
     "output_type": "execute_result"
    }
   ],
   "source": [
    "z = x.reshape(4 , 5)\n",
    "z"
   ]
  },
  {
   "cell_type": "markdown",
   "metadata": {
    "colab_type": "text",
    "id": "zQ-QhrsgM2x8"
   },
   "source": [
    "**MINI CHALLENGE #4:**\n",
    "- **Write a code that creates a 20x20 numpy array of random values that ranges from -1000 to 1000 and obtain the maximum, minimum, and mean values** "
   ]
  },
  {
   "cell_type": "code",
   "execution_count": 39,
   "metadata": {
    "colab": {},
    "colab_type": "code",
    "id": "PS3ofoabMb9V"
   },
   "outputs": [
    {
     "data": {
      "text/plain": [
       "array([[-287,  742, -240,  441, -621, -501,  538, -918, -344,  910, -358,\n",
       "        -771,  379,  181, -958,  935, -615,  764,  387, -125],\n",
       "       [ 823,  685,  755, -184,  670,  210,  486,  261,  831, -820, -129,\n",
       "         764, -315, -918, -766, -717,   63, -406, -366, -474],\n",
       "       [ 803,  800, -978, -719,  -34, -219,  346, -821,  573, -542, -110,\n",
       "         724,  235, -939, -880,   38, -678, -926, -133, -603],\n",
       "       [-530, -301, -884,  157,  709, -519, -338,  720,  797,  339,   -4,\n",
       "         844,  298, -714, -415,  517, -275, -339,  288,  654],\n",
       "       [ 560, -300, -725, -243, -754,  788,  107, -991,  359,  207,  874,\n",
       "         165, -985,  583,  553,  150,  322, -513,  966, -915],\n",
       "       [ -73,  421,  520,  672, -614,  839,  996, -916, -411,  935, -504,\n",
       "        -568,  866, -387,  977,  517,  672, -494, -345,   85],\n",
       "       [-857, -604,  117,  564, -392,  992, -748,  -34, -583, -657,  301,\n",
       "        -977, -173,  602, -767, -152, -544,  467, -155, -995],\n",
       "       [ 698, -681, -816,  735,   39, -925,  178,  967, -361,  740, -562,\n",
       "         780, -393,  338,  184,  603,  762,  297, -131, -347],\n",
       "       [-402,  634, -665, -510, -575,  816,  976, -804,  853,  196,  197,\n",
       "         764, -933,  275,  713,  276, -966,  529, -577, -204],\n",
       "       [-944, -354, -587, -123,   17,  893,  877, -707, -870,  678,  495,\n",
       "         576,  221, -121, -238, -887, -864, -897,  540,  -94],\n",
       "       [-134, -904, -720, -519, -860,  169,  335, -268,  952,  225,  866,\n",
       "         741, -414,  -62, -261,  143,  505,  790, -553,   72],\n",
       "       [ 156, -108,  943, -981, -767,  478, -746,  -47,  220,   28,  215,\n",
       "        -904,  212, -694,  422,   29,  307,  837, -717, -846],\n",
       "       [ 757,  103,  469,  274,  461, -620, -905, -100,  388, -602, -816,\n",
       "        -531, -470,  -54,  573,  -23,  780, -820,   95, -753],\n",
       "       [-250,  642, -292,  567,  566,  583,  578, -397, -541,   50,   29,\n",
       "          97,  -98,  254,  739, -931,  213,  975,  439, -757],\n",
       "       [ 208,  783, -414, -175, -750,  612, -159,  945,  552,  816,  781,\n",
       "        -631,  235,  768, -787,   80,  642,  906,  872, -611],\n",
       "       [-848,   21,  299,  599, -145, -715,  649, -977,  221,   91, -911,\n",
       "         737,  835,   51, -519,  278,   -1,  914,  232,  551],\n",
       "       [ -94, -926,  444,  -80, -204, -564,  305,  479,  367, -878, -719,\n",
       "        -385,  830,  166,  932, -171, -600, -727, -476,  898],\n",
       "       [-224, -762,  398, -500, -692,  632,  -27,  986, -672,  224,  349,\n",
       "         843,  -17, -728,  489,   19,   -5,  928, -251, -768],\n",
       "       [ 808, -313,  624, -790,  526, -798, -484,  -83,  576,  864,    7,\n",
       "         215,  360,  306,   77,  244,  276,  107, -406, -699],\n",
       "       [-336, -476,  912,  -87,  308, -254, -321, -792,  823, -513, -793,\n",
       "        -772, -961, -551, -725,  984,  243, -570, -940, -518]])"
      ]
     },
     "execution_count": 39,
     "metadata": {},
     "output_type": "execute_result"
    }
   ],
   "source": [
    "x = np.random.randint(-1000 , 1000 , (20 , 20))\n",
    "x\n",
    "z = x.reshape(20 , 20)\n",
    "z\n"
   ]
  },
  {
   "cell_type": "code",
   "execution_count": 38,
   "metadata": {},
   "outputs": [
    {
     "data": {
      "text/plain": [
       "(20, 20)"
      ]
     },
     "execution_count": 38,
     "metadata": {},
     "output_type": "execute_result"
    }
   ],
   "source": [
    "z.shape"
   ]
  },
  {
   "cell_type": "code",
   "execution_count": 40,
   "metadata": {},
   "outputs": [
    {
     "data": {
      "text/plain": [
       "996"
      ]
     },
     "execution_count": 40,
     "metadata": {},
     "output_type": "execute_result"
    }
   ],
   "source": [
    "x.max() "
   ]
  },
  {
   "cell_type": "code",
   "execution_count": 41,
   "metadata": {},
   "outputs": [
    {
     "data": {
      "text/plain": [
       "-995"
      ]
     },
     "execution_count": 41,
     "metadata": {},
     "output_type": "execute_result"
    }
   ],
   "source": [
    "x.min()"
   ]
  },
  {
   "cell_type": "code",
   "execution_count": 42,
   "metadata": {},
   "outputs": [
    {
     "data": {
      "text/plain": [
       "-10.5325"
      ]
     },
     "execution_count": 42,
     "metadata": {},
     "output_type": "execute_result"
    }
   ],
   "source": [
    "x.mean()"
   ]
  },
  {
   "cell_type": "code",
   "execution_count": 44,
   "metadata": {},
   "outputs": [
    {
     "name": "stdout",
     "output_type": "stream",
     "text": [
      "The maximum value is 996 and minimum value is -995 \n"
     ]
    }
   ],
   "source": [
    "print('The maximum value is {} and minimum value is {} '.format(x.max() , x.min()))"
   ]
  },
  {
   "cell_type": "markdown",
   "metadata": {
    "colab_type": "text",
    "id": "VRyk_VYQArV3"
   },
   "source": [
    "# 4. MATHEMATICAL OPERATIONS"
   ]
  },
  {
   "cell_type": "code",
   "execution_count": null,
   "metadata": {},
   "outputs": [],
   "source": []
  },
  {
   "cell_type": "code",
   "execution_count": 45,
   "metadata": {
    "colab": {},
    "colab_type": "code",
    "id": "vm-gmaQG-Vvd"
   },
   "outputs": [
    {
     "data": {
      "text/plain": [
       "array([1, 2, 3, 4, 5, 6, 7, 8, 9])"
      ]
     },
     "execution_count": 45,
     "metadata": {},
     "output_type": "execute_result"
    }
   ],
   "source": [
    "# np.arange() returns an evenly spaced values within a given interval\n",
    "x = np.arange(1 , 10)\n",
    "x"
   ]
  },
  {
   "cell_type": "code",
   "execution_count": 46,
   "metadata": {
    "colab": {},
    "colab_type": "code",
    "id": "yzC5WGBIAzNk"
   },
   "outputs": [
    {
     "data": {
      "text/plain": [
       "array([1, 2, 3, 4, 5, 6, 7, 8, 9])"
      ]
     },
     "execution_count": 46,
     "metadata": {},
     "output_type": "execute_result"
    }
   ],
   "source": [
    "y = np.arange(1 , 10)\n",
    "y"
   ]
  },
  {
   "cell_type": "code",
   "execution_count": 48,
   "metadata": {
    "colab": {},
    "colab_type": "code",
    "id": "ED0OSzpw2p9R"
   },
   "outputs": [
    {
     "data": {
      "text/plain": [
       "array([ 2,  4,  6,  8, 10, 12, 14, 16, 18])"
      ]
     },
     "execution_count": 48,
     "metadata": {},
     "output_type": "execute_result"
    }
   ],
   "source": [
    "# Add 2 numpy arrays together\n",
    "z = x+y\n",
    "z"
   ]
  },
  {
   "cell_type": "code",
   "execution_count": 49,
   "metadata": {
    "colab": {},
    "colab_type": "code",
    "id": "TH6xTJcuAzK-"
   },
   "outputs": [],
   "source": [
    "squared = x**2"
   ]
  },
  {
   "cell_type": "code",
   "execution_count": 50,
   "metadata": {
    "colab": {},
    "colab_type": "code",
    "id": "A0T25q5bAzIw"
   },
   "outputs": [
    {
     "data": {
      "text/plain": [
       "array([ 1,  4,  9, 16, 25, 36, 49, 64, 81], dtype=int32)"
      ]
     },
     "execution_count": 50,
     "metadata": {},
     "output_type": "execute_result"
    }
   ],
   "source": [
    "squared"
   ]
  },
  {
   "cell_type": "code",
   "execution_count": 51,
   "metadata": {
    "colab": {},
    "colab_type": "code",
    "id": "1HvrjH4fAzGd"
   },
   "outputs": [
    {
     "data": {
      "text/plain": [
       "array([1., 2., 3., 4., 5., 6., 7., 8., 9.])"
      ]
     },
     "execution_count": 51,
     "metadata": {},
     "output_type": "execute_result"
    }
   ],
   "source": [
    "sqrt = np.sqrt(squared)\n",
    "sqrt"
   ]
  },
  {
   "cell_type": "code",
   "execution_count": 52,
   "metadata": {},
   "outputs": [
    {
     "data": {
      "text/plain": [
       "array([2.71828183e+00, 7.38905610e+00, 2.00855369e+01, 5.45981500e+01,\n",
       "       1.48413159e+02, 4.03428793e+02, 1.09663316e+03, 2.98095799e+03,\n",
       "       8.10308393e+03])"
      ]
     },
     "execution_count": 52,
     "metadata": {},
     "output_type": "execute_result"
    }
   ],
   "source": [
    "z = np.exp(y)\n",
    "z"
   ]
  },
  {
   "cell_type": "markdown",
   "metadata": {
    "colab_type": "text",
    "id": "-mj5Mwc2MmY2"
   },
   "source": [
    "**MINI CHALLENGE #5:**\n",
    "- **Given the X and Y values below, obtain the distance between them**\n",
    "\n",
    "\n",
    "```\n",
    "X = [3, 20, 30]\n",
    "Y = [4, 6, 7]\n",
    "```"
   ]
  },
  {
   "cell_type": "code",
   "execution_count": 53,
   "metadata": {
    "colab": {},
    "colab_type": "code",
    "id": "LfvrGIb83zCA"
   },
   "outputs": [
    {
     "data": {
      "text/plain": [
       "array([ 5.        , 20.88061302, 30.8058436 ])"
      ]
     },
     "execution_count": 53,
     "metadata": {},
     "output_type": "execute_result"
    }
   ],
   "source": [
    "X = np.array([3, 20, 30])\n",
    "Y = np.array([4, 6, 7])\n",
    "Z = np.sqrt(X**2 + Y**2)\n",
    "Z"
   ]
  },
  {
   "cell_type": "markdown",
   "metadata": {
    "colab_type": "text",
    "id": "ZA-Yb20mCYLl"
   },
   "source": [
    "# 5. SLICING AND INDEXING "
   ]
  },
  {
   "cell_type": "code",
   "execution_count": 54,
   "metadata": {
    "colab": {},
    "colab_type": "code",
    "id": "Bu6rhQ99BFCp"
   },
   "outputs": [
    {
     "data": {
      "text/plain": [
       "array([20, 40, 50, 21, 15])"
      ]
     },
     "execution_count": 54,
     "metadata": {},
     "output_type": "execute_result"
    }
   ],
   "source": [
    "x = np.array([20 , 40 , 50 , 21 , 15])\n",
    "x"
   ]
  },
  {
   "cell_type": "code",
   "execution_count": 56,
   "metadata": {
    "colab": {},
    "colab_type": "code",
    "id": "9TuEXJxgCdi_"
   },
   "outputs": [
    {
     "data": {
      "text/plain": [
       "21"
      ]
     },
     "execution_count": 56,
     "metadata": {},
     "output_type": "execute_result"
    }
   ],
   "source": [
    "# Access specific index from the numpy array\n",
    "x[3]"
   ]
  },
  {
   "cell_type": "code",
   "execution_count": 57,
   "metadata": {
    "colab": {},
    "colab_type": "code",
    "id": "EjisujRgCdh4"
   },
   "outputs": [
    {
     "data": {
      "text/plain": [
       "array([20, 40, 50])"
      ]
     },
     "execution_count": 57,
     "metadata": {},
     "output_type": "execute_result"
    }
   ],
   "source": [
    "# Starting from the first index 0 up until and NOT inlcluding the last element\n",
    "x[0:3]"
   ]
  },
  {
   "cell_type": "code",
   "execution_count": 60,
   "metadata": {
    "colab": {},
    "colab_type": "code",
    "id": "1nWlP602Cdg3"
   },
   "outputs": [
    {
     "data": {
      "text/plain": [
       "array([10, 10, 50, 21, 15])"
      ]
     },
     "execution_count": 60,
     "metadata": {},
     "output_type": "execute_result"
    }
   ],
   "source": [
    "# Broadcasting, altering several values in a numpy array at once\n",
    "x[0:2] = 10\n",
    "x"
   ]
  },
  {
   "cell_type": "code",
   "execution_count": 61,
   "metadata": {
    "colab": {},
    "colab_type": "code",
    "id": "fVKbwHguCddn"
   },
   "outputs": [
    {
     "data": {
      "text/plain": [
       "array([[9, 5, 9, 1, 2],\n",
       "       [9, 4, 2, 9, 6],\n",
       "       [8, 7, 1, 7, 7],\n",
       "       [6, 6, 3, 3, 7],\n",
       "       [4, 1, 7, 2, 1]])"
      ]
     },
     "execution_count": 61,
     "metadata": {},
     "output_type": "execute_result"
    }
   ],
   "source": [
    "# Let's define a two dimensional numpy array\n",
    "matrix = np.random.randint(1 , 10 , (5 , 5))\n",
    "matrix"
   ]
  },
  {
   "cell_type": "code",
   "execution_count": 62,
   "metadata": {
    "colab": {},
    "colab_type": "code",
    "id": "Ea7ukwEzCda-"
   },
   "outputs": [
    {
     "data": {
      "text/plain": [
       "array([8, 7, 1, 7, 7])"
      ]
     },
     "execution_count": 62,
     "metadata": {},
     "output_type": "execute_result"
    }
   ],
   "source": [
    "# Get a row from a mtrix\n",
    "matrix[2]"
   ]
  },
  {
   "cell_type": "code",
   "execution_count": 65,
   "metadata": {
    "colab": {},
    "colab_type": "code",
    "id": "8KJk10J8Ci8k"
   },
   "outputs": [
    {
     "data": {
      "text/plain": [
       "7"
      ]
     },
     "execution_count": 65,
     "metadata": {},
     "output_type": "execute_result"
    }
   ],
   "source": [
    "# Get one element\n",
    "matrix[2][3]"
   ]
  },
  {
   "cell_type": "code",
   "execution_count": 69,
   "metadata": {
    "colab": {},
    "colab_type": "code",
    "id": "lWsIgHYRCi5e"
   },
   "outputs": [
    {
     "data": {
      "text/plain": [
       "array([[9, 5, 9, 1, 2],\n",
       "       [9, 4, 2, 9, 6],\n",
       "       [8, 7, 1, 7, 7],\n",
       "       [6, 6, 3, 3, 7]])"
      ]
     },
     "execution_count": 69,
     "metadata": {},
     "output_type": "execute_result"
    }
   ],
   "source": [
    "mini_matrix = matrix[:4]\n",
    "mini_matrix"
   ]
  },
  {
   "cell_type": "code",
   "execution_count": 70,
   "metadata": {
    "colab": {},
    "colab_type": "code",
    "id": "Gn7-PKS9Ci4c"
   },
   "outputs": [
    {
     "data": {
      "text/plain": [
       "array([[9, 1, 2],\n",
       "       [2, 9, 6],\n",
       "       [1, 7, 7],\n",
       "       [3, 3, 7],\n",
       "       [7, 2, 1]])"
      ]
     },
     "execution_count": 70,
     "metadata": {},
     "output_type": "execute_result"
    }
   ],
   "source": [
    "mini_matrix = matrix[: , 2:]\n",
    "mini_matrix"
   ]
  },
  {
   "cell_type": "code",
   "execution_count": 72,
   "metadata": {
    "colab": {},
    "colab_type": "code",
    "id": "MGap8pfACi1M"
   },
   "outputs": [
    {
     "data": {
      "text/plain": [
       "array([[9, 5],\n",
       "       [9, 4],\n",
       "       [8, 7],\n",
       "       [6, 6],\n",
       "       [4, 1]])"
      ]
     },
     "execution_count": 72,
     "metadata": {},
     "output_type": "execute_result"
    }
   ],
   "source": [
    "mini_matrix = matrix[: , :2]\n",
    "mini_matrix"
   ]
  },
  {
   "cell_type": "code",
   "execution_count": null,
   "metadata": {
    "colab": {},
    "colab_type": "code",
    "id": "ANJFZWTdCdX9"
   },
   "outputs": [],
   "source": []
  },
  {
   "cell_type": "markdown",
   "metadata": {
    "colab_type": "text",
    "id": "zgyFPV5R8dUS"
   },
   "source": [
    "**MINI CHALLENGE #6:**\n",
    "- **In the following matrix, replace the last row with -1**\n",
    "- **Multiply the 2x2 matrix in the upper right corner by 2**\n",
    "\n",
    "\n",
    "\n",
    "```\n",
    "X = [2 30 20 -2 -4]\n",
    "    [3 4  40 -3 -2]\n",
    "    [-3 4 -6 90 10]\n",
    "    [25 45 34 22 12]\n",
    "    [13 24 22 32 37]\n",
    "```\n",
    "\n"
   ]
  },
  {
   "cell_type": "code",
   "execution_count": 98,
   "metadata": {},
   "outputs": [
    {
     "data": {
      "text/plain": [
       "array([[ 2, 30, 20, -2, -4],\n",
       "       [ 3,  4, 40, -3, -2],\n",
       "       [-3,  4, -6, 90, 10],\n",
       "       [25, 45, 34, 22, 12],\n",
       "       [13, 24, 22, 32, 37]])"
      ]
     },
     "execution_count": 98,
     "metadata": {},
     "output_type": "execute_result"
    }
   ],
   "source": [
    "x =np.array([[2 , 30 , 20 , -2 , -4],\n",
    "             [3 , 4 , 40 , -3 , -2],\n",
    "             [-3 , 4 , -6 , 90 , 10],\n",
    "             [25 , 45 , 34 , 22 , 12],\n",
    "             [13 , 24 , 22 , 32 , 37]])\n",
    "x"
   ]
  },
  {
   "cell_type": "code",
   "execution_count": 85,
   "metadata": {},
   "outputs": [],
   "source": [
    "x[4] = -1"
   ]
  },
  {
   "cell_type": "code",
   "execution_count": 94,
   "metadata": {},
   "outputs": [
    {
     "data": {
      "text/plain": [
       "array([[  2,  30,  20, -32, -64],\n",
       "       [  3,   4,  40, -48, -32],\n",
       "       [ -3,   4,  -6,  90,  10],\n",
       "       [ 25,  45,  34,  22,  12],\n",
       "       [ -1,  -1,  -1,  -1,  -1]])"
      ]
     },
     "execution_count": 94,
     "metadata": {},
     "output_type": "execute_result"
    }
   ],
   "source": [
    "x"
   ]
  },
  {
   "cell_type": "code",
   "execution_count": 95,
   "metadata": {},
   "outputs": [
    {
     "data": {
      "text/plain": [
       "array([[ -64, -128],\n",
       "       [ -96,  -64]])"
      ]
     },
     "execution_count": 95,
     "metadata": {},
     "output_type": "execute_result"
    }
   ],
   "source": [
    "mini_matrix = x[:2 , 3:]*2\n",
    "mini_matrix"
   ]
  },
  {
   "cell_type": "code",
   "execution_count": 99,
   "metadata": {},
   "outputs": [
    {
     "data": {
      "text/plain": [
       "array([[ 2, 30, 20, -4, -8],\n",
       "       [ 3,  4, 40, -6, -4],\n",
       "       [-3,  4, -6, 90, 10],\n",
       "       [25, 45, 34, 22, 12],\n",
       "       [13, 24, 22, 32, 37]])"
      ]
     },
     "execution_count": 99,
     "metadata": {},
     "output_type": "execute_result"
    }
   ],
   "source": [
    "x[:2 , 3:] = x[:2 , 3:]*2\n",
    "x"
   ]
  },
  {
   "cell_type": "markdown",
   "metadata": {
    "colab_type": "text",
    "id": "juuMOEq7Col_"
   },
   "source": [
    "# 6. ELEMENTS SELECTION (CONDITIONAL)"
   ]
  },
  {
   "cell_type": "code",
   "execution_count": 103,
   "metadata": {
    "colab": {},
    "colab_type": "code",
    "id": "UujCvuhMCt4K"
   },
   "outputs": [
    {
     "data": {
      "text/plain": [
       "array([[7, 3, 3, 1, 8],\n",
       "       [3, 9, 5, 5, 9],\n",
       "       [3, 5, 4, 5, 7],\n",
       "       [8, 3, 4, 4, 7],\n",
       "       [3, 1, 6, 2, 8]])"
      ]
     },
     "execution_count": 103,
     "metadata": {},
     "output_type": "execute_result"
    }
   ],
   "source": [
    "matrix = np.random.randint(1 , 10 , (5 , 5))\n",
    "matrix"
   ]
  },
  {
   "cell_type": "code",
   "execution_count": 104,
   "metadata": {
    "colab": {},
    "colab_type": "code",
    "id": "JBgJ8ugyCvht"
   },
   "outputs": [
    {
     "data": {
      "text/plain": [
       "array([7, 8, 9, 5, 5, 9, 5, 4, 5, 7, 8, 4, 4, 7, 6, 8])"
      ]
     },
     "execution_count": 104,
     "metadata": {},
     "output_type": "execute_result"
    }
   ],
   "source": [
    "new_matrix = matrix[matrix > 3]\n",
    "new_matrix"
   ]
  },
  {
   "cell_type": "code",
   "execution_count": 113,
   "metadata": {
    "colab": {},
    "colab_type": "code",
    "id": "TIQ-A7IBCvgl"
   },
   "outputs": [
    {
     "data": {
      "text/plain": [
       "array([7, 3, 3, 1, 3, 9, 5, 5, 9, 3, 5, 5, 7, 3, 7, 3, 1])"
      ]
     },
     "execution_count": 113,
     "metadata": {},
     "output_type": "execute_result"
    }
   ],
   "source": [
    "new_matrix = matrix[matrix%2==1]\n",
    "new_matrix"
   ]
  },
  {
   "cell_type": "markdown",
   "metadata": {
    "colab_type": "text",
    "id": "39QiMh-W8ogs"
   },
   "source": [
    "**MINI CHALLENGE #7:**\n",
    "- **In the following matrix, replace negative elements by 0 and replace odd elements with 25**\n",
    "\n",
    "\n",
    "```\n",
    "X = [2 30 20 -2 -4]\n",
    "    [3 4  40 -3 -2]\n",
    "    [-3 4 -6 90 10]\n",
    "    [25 45 34 22 12]\n",
    "    [13 24 22 32 37]\n",
    "```\n"
   ]
  },
  {
   "cell_type": "code",
   "execution_count": 110,
   "metadata": {
    "colab": {},
    "colab_type": "code",
    "id": "AbN-vySf9gen"
   },
   "outputs": [
    {
     "data": {
      "text/plain": [
       "array([[ 2, 30, 20, -2, -4],\n",
       "       [ 3,  4, 40, -3, -2],\n",
       "       [-3,  4, -6, 90, 10],\n",
       "       [25, 45, 34, 22, 12],\n",
       "       [13, 24, 22, 32, 37]])"
      ]
     },
     "execution_count": 110,
     "metadata": {},
     "output_type": "execute_result"
    }
   ],
   "source": [
    "x = np.array([[2 , 30 , 20 , -2 , -4],\n",
    "              [3 , 4 , 40 , -3 , -2],\n",
    "              [-3 , 4 , -6 , 90 , 10],\n",
    "              [25 , 45 , 34 , 22 , 12],\n",
    "              [13 , 24 , 22 , 32 , 37]])\n",
    "x\n"
   ]
  },
  {
   "cell_type": "code",
   "execution_count": 112,
   "metadata": {},
   "outputs": [
    {
     "data": {
      "text/plain": [
       "array([[ 2, 30, 20, -2, -4],\n",
       "       [25,  4, 40, 25, -2],\n",
       "       [25,  4, -6, 90, 10],\n",
       "       [25, 25, 34, 22, 12],\n",
       "       [25, 24, 22, 32, 25]])"
      ]
     },
     "execution_count": 112,
     "metadata": {},
     "output_type": "execute_result"
    }
   ],
   "source": [
    "x[x%2==1]=25\n",
    "x"
   ]
  },
  {
   "cell_type": "code",
   "execution_count": 116,
   "metadata": {},
   "outputs": [
    {
     "data": {
      "text/plain": [
       "array([[ 2, 30, 20,  0,  0],\n",
       "       [25,  4, 40, 25,  0],\n",
       "       [25,  4,  0, 90, 10],\n",
       "       [25, 25, 34, 22, 12],\n",
       "       [25, 24, 22, 32, 25]])"
      ]
     },
     "execution_count": 116,
     "metadata": {},
     "output_type": "execute_result"
    }
   ],
   "source": [
    "x[x<0]=0\n",
    "x"
   ]
  },
  {
   "cell_type": "markdown",
   "metadata": {
    "colab_type": "text",
    "id": "dakv7iPFgw7Y"
   },
   "source": [
    "# EXCELLENT JOB!"
   ]
  },
  {
   "cell_type": "markdown",
   "metadata": {
    "colab_type": "text",
    "id": "pNWQrMz6KnIF"
   },
   "source": [
    "# MINI CHALLENGES SOLUTIONS"
   ]
  },
  {
   "cell_type": "markdown",
   "metadata": {
    "colab_type": "text",
    "id": "6AMqSvtAKj6o"
   },
   "source": [
    "**MINI CHALLENGE #1 SOLUTION:** \n",
    "- **Write a code that creates the following 2x4 numpy array**\n",
    "\n",
    "```\n",
    "[[4 6 8 7] \n",
    "[20 5 6 9]]\n",
    "```"
   ]
  },
  {
   "cell_type": "code",
   "execution_count": null,
   "metadata": {
    "colab": {},
    "colab_type": "code",
    "id": "ivvFzDy-KlQP"
   },
   "outputs": [],
   "source": [
    "x = np.array([[[4, 6, 8, 7] , [20, 5, 6, 9]]])\n",
    "x"
   ]
  },
  {
   "cell_type": "markdown",
   "metadata": {
    "colab_type": "text",
    "id": "2GskzNkOMFu0"
   },
   "source": [
    "**MINI CHALLENGE #2 SOLUTION:**\n",
    "- **Write a code that takes in a number x from the user and creates a 1x20 array with random numbers ranging from 0 to x**"
   ]
  },
  {
   "cell_type": "code",
   "execution_count": null,
   "metadata": {
    "colab": {},
    "colab_type": "code",
    "id": "0vnDfvwFMFu3"
   },
   "outputs": [],
   "source": [
    "x = int(input(\"Please enter a positive integer value: \"))\n",
    "x = np.random.randint(1, x, 20)\n",
    "x"
   ]
  },
  {
   "cell_type": "markdown",
   "metadata": {
    "colab_type": "text",
    "id": "LOVruiHdMRMd"
   },
   "source": [
    "**MINI CHALLENGE #3 SOLUTION:**\n",
    "- **Write a code that creates a 4x5 array inwhich numbers ranging between 300 and 500 such that the difference between elements is 10**"
   ]
  },
  {
   "cell_type": "code",
   "execution_count": null,
   "metadata": {
    "colab": {},
    "colab_type": "code",
    "id": "WtSncbsHMRMg"
   },
   "outputs": [],
   "source": [
    "x = np.arange(300, 500, 10)\n",
    "x.shape"
   ]
  },
  {
   "cell_type": "code",
   "execution_count": null,
   "metadata": {
    "colab": {},
    "colab_type": "code",
    "id": "2_8vFVF7MRMp"
   },
   "outputs": [],
   "source": [
    "x = x.reshape(4, 5)\n",
    "print(x)"
   ]
  },
  {
   "cell_type": "markdown",
   "metadata": {
    "colab_type": "text",
    "id": "NSuiOFRx1pSY"
   },
   "source": [
    "**MINI CHALLENGE #4 SOLUTION:**\n",
    "- **Write a code that creates a 20x20 numpy array of random values that ranges from -1000 to 1000 and obtain the maximum, minimum, and mean values** "
   ]
  },
  {
   "cell_type": "code",
   "execution_count": null,
   "metadata": {
    "colab": {},
    "colab_type": "code",
    "id": "445Vi21GMYS7"
   },
   "outputs": [],
   "source": [
    "x = np.random.randint(-1000, 1000, (20, 20))\n",
    "print(x)\n",
    "print('The maximum value is: {} and the minimum value is:{}'.format(x.min(), x.max()))"
   ]
  },
  {
   "cell_type": "code",
   "execution_count": null,
   "metadata": {
    "colab": {},
    "colab_type": "code",
    "id": "tIVL0uEr4xsC"
   },
   "outputs": [],
   "source": []
  },
  {
   "cell_type": "markdown",
   "metadata": {
    "colab_type": "text",
    "id": "s1p4WaNB4yFf"
   },
   "source": [
    "**MINI CHALLENGE #5 SOLUTION:**\n",
    "- **Given the X and Y values below, obtain the distance between them**\n",
    "\n",
    "\n",
    "```\n",
    "X = [3, 20, 30]\n",
    "Y = [4, 6, 7]\n",
    "```\n",
    "\n",
    "\n"
   ]
  },
  {
   "cell_type": "code",
   "execution_count": null,
   "metadata": {
    "colab": {},
    "colab_type": "code",
    "id": "_GJmf2Pl4yFi"
   },
   "outputs": [],
   "source": [
    "X = np.array([3, 20, 30])\n",
    "Y = np.array([4, 6, 7])\n",
    "Z = np.sqrt(X**2 + Y**2)\n",
    "Z"
   ]
  },
  {
   "cell_type": "markdown",
   "metadata": {
    "colab_type": "text",
    "id": "EZ9i2CLm6Iuf"
   },
   "source": [
    "**MINI CHALLENGE #6 SOLUTION:**\n",
    "- **In the following matrix, replace the last row with -1**\n",
    "- **Multiply the 2x2 matrix in the upper right corner by 2**\n",
    "\n",
    "\n",
    "\n",
    "```\n",
    "X = [2 30 20 -2 -4]\n",
    "    [3 4  40 -3 -2]\n",
    "    [-3 4 -6 90 10]\n",
    "    [25 45 34 22 12]\n",
    "    [13 24 22 32 37]\n",
    "```\n",
    "\n",
    "\n"
   ]
  },
  {
   "cell_type": "code",
   "execution_count": null,
   "metadata": {
    "colab": {},
    "colab_type": "code",
    "id": "qB7S_wIx6Hsm"
   },
   "outputs": [],
   "source": [
    "X = np.array([[2, 30, 20, -2, -4],\n",
    "    [3, 4,  40, -3, -2],\n",
    "    [-3, 4, -6, 90, 10],\n",
    "    [25, 45, 34, 22, 12],\n",
    "    [13, 24, 22, 32, 37]])\n"
   ]
  },
  {
   "cell_type": "code",
   "execution_count": null,
   "metadata": {
    "colab": {},
    "colab_type": "code",
    "id": "y98hmGRe7Qtl"
   },
   "outputs": [],
   "source": [
    "X[4] = 0\n",
    "X"
   ]
  },
  {
   "cell_type": "code",
   "execution_count": null,
   "metadata": {
    "colab": {},
    "colab_type": "code",
    "id": "6pLZ5lF87UFs"
   },
   "outputs": [],
   "source": [
    "X[:2, 3:]  = X[:2, 3:] * 2"
   ]
  },
  {
   "cell_type": "code",
   "execution_count": null,
   "metadata": {
    "colab": {},
    "colab_type": "code",
    "id": "WsqjANlB8Kva"
   },
   "outputs": [],
   "source": [
    "X"
   ]
  },
  {
   "cell_type": "markdown",
   "metadata": {
    "colab_type": "text",
    "id": "2oikl6JS9YUs"
   },
   "source": [
    "**MINI CHALLENGE #7 SOLUTION:**\n",
    "- **In the following matrix, replace negative elements by 0 and replace odd elements with 25**\n",
    "\n",
    "\n",
    "```\n",
    "X = [2 30 20 -2 -4]\n",
    "    [3 4  40 -3 -2]\n",
    "    [-3 4 -6 90 10]\n",
    "    [25 45 34 22 12]\n",
    "    [13 24 22 32 37]\n",
    "```\n"
   ]
  },
  {
   "cell_type": "code",
   "execution_count": null,
   "metadata": {
    "colab": {},
    "colab_type": "code",
    "id": "h105KzGr9YUu"
   },
   "outputs": [],
   "source": [
    "X = np.array([[2, 30, 20, -2, -4],\n",
    "    [3, 4,  40, -3, -2],\n",
    "    [-3, 4, -6, 90, 10],\n",
    "    [25, 45, 34, 22, 12],\n",
    "    [13, 24, 22, 32, 37]])\n",
    "\n",
    "X[X%2==1] = 25\n",
    "X[X<0] = 0\n",
    "X"
   ]
  }
 ],
 "metadata": {
  "colab": {
   "collapsed_sections": [],
   "name": "7. Python 101 - Python Libraries for Data Analysis - Numpy Skeleton.ipynb",
   "provenance": []
  },
  "kernelspec": {
   "display_name": "Python 3",
   "language": "python",
   "name": "python3"
  },
  "language_info": {
   "codemirror_mode": {
    "name": "ipython",
    "version": 3
   },
   "file_extension": ".py",
   "mimetype": "text/x-python",
   "name": "python",
   "nbconvert_exporter": "python",
   "pygments_lexer": "ipython3",
   "version": "3.7.6"
  }
 },
 "nbformat": 4,
 "nbformat_minor": 1
}
